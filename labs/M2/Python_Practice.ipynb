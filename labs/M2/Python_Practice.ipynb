{
 "cells": [
  {
   "cell_type": "code",
   "execution_count": 1,
   "metadata": {},
   "outputs": [
    {
     "name": "stdout",
     "output_type": "stream",
     "text": [
      "1\n",
      "A\n",
      "B\n",
      "2\n",
      "A\n",
      "B\n"
     ]
    }
   ],
   "source": [
    "  for i in [1,2]:\n",
    "      print(i)\n",
    "      for j in ['A','B']:\n",
    "          print(j)"
   ]
  },
  {
   "cell_type": "code",
   "execution_count": 5,
   "metadata": {},
   "outputs": [
    {
     "name": "stdout",
     "output_type": "stream",
     "text": [
      "3\n",
      "23\n"
     ]
    }
   ],
   "source": [
    "def absolute_value(num):\n",
    "  \"\"\"# This function returns the absolute\n",
    "  value of the entered number.\n",
    "  It takes one numeric argument\"\"\"\n",
    "\n",
    "  if num >= 0:\n",
    "     return num\n",
    "  else:\n",
    "     return -num\n",
    "\n",
    "print(absolute_value(-3))\n",
    "print(absolute_value(23))"
   ]
  },
  {
   "cell_type": "code",
   "execution_count": 6,
   "metadata": {},
   "outputs": [
    {
     "name": "stdout",
     "output_type": "stream",
     "text": [
      "3\n"
     ]
    }
   ],
   "source": [
    "my_variable = 3\n",
    "print(my_variable)"
   ]
  },
  {
   "cell_type": "code",
   "execution_count": 7,
   "metadata": {},
   "outputs": [
    {
     "name": "stdout",
     "output_type": "stream",
     "text": [
      "First Name:  Ryan\n",
      "Age:  24\n",
      "Gender:  M\n"
     ]
    }
   ],
   "source": [
    "First_Name, Age, Gender = 'Ryan', '24', 'M'\n",
    "\n",
    "print(\"First Name: \", First_Name)\n",
    "print(\"Age: \", Age)\n",
    "print(\"Gender: \", Gender)"
   ]
  },
  {
   "cell_type": "code",
   "execution_count": 8,
   "metadata": {},
   "outputs": [
    {
     "name": "stdout",
     "output_type": "stream",
     "text": [
      "Mary had a\n",
      "little lamb\n"
     ]
    }
   ],
   "source": [
    "my_first_string = 'Mary had a'\n",
    "my_second_string = \"little lamb\"\n",
    "\n",
    "print(my_first_string)\n",
    "print(my_second_string)"
   ]
  },
  {
   "cell_type": "code",
   "execution_count": 9,
   "metadata": {},
   "outputs": [
    {
     "name": "stdout",
     "output_type": "stream",
     "text": [
      "Here is the first line.\n",
      "Here is the second line.\n",
      "Here is the third line.\n"
     ]
    }
   ],
   "source": [
    "multi_line_string = \"\"\"Here is the first line.\n",
    "Here is the second line.\n",
    "Here is the third line.\"\"\"\n",
    "\n",
    "print(multi_line_string)"
   ]
  },
  {
   "cell_type": "code",
   "execution_count": 10,
   "metadata": {},
   "outputs": [
    {
     "name": "stdout",
     "output_type": "stream",
     "text": [
      "[1, 2, 3]\n",
      "[1, 'CENGN', 2]\n",
      "[[1, 2, 3], [2, 1], [1, 'CENGN', 2]]\n"
     ]
    }
   ],
   "source": [
    "# Define and print lists with various variable types\n",
    "\n",
    "list_of_integers = [1,2,3]\n",
    "print(list_of_integers)\n",
    "\n",
    "heterogeneous_list = [1, \"CENGN\", 2]\n",
    "print(heterogeneous_list)\n",
    "\n",
    "list_of_lists = [list_of_integers, [2,1], heterogeneous_list]\n",
    "print(list_of_lists)"
   ]
  },
  {
   "cell_type": "code",
   "execution_count": 11,
   "metadata": {},
   "outputs": [
    {
     "name": "stdout",
     "output_type": "stream",
     "text": [
      "[10, 20, 30, 40, 50, 60]\n"
     ]
    }
   ],
   "source": [
    "x = [10, 20, 30, 40, 50, 60]\n",
    "\n",
    "print(x)"
   ]
  },
  {
   "cell_type": "code",
   "execution_count": 15,
   "metadata": {},
   "outputs": [
    {
     "name": "stdout",
     "output_type": "stream",
     "text": [
      "Number of positive numbers =  3\n",
      "Number of negative numbers =  2\n"
     ]
    }
   ],
   "source": [
    "S = {-2, -1, 2, 3, 4}\n",
    "def num_pos_neg(S):\n",
    "    num_pos = 0\n",
    "    num_neg = 0\n",
    "    for i in S:\n",
    "        if ( i >= 0 ):\n",
    "            num_pos+=1\n",
    "        else:\n",
    "            num_neg+=1\n",
    "    return num_pos, num_neg\n",
    "\n",
    "pos, neg = num_pos_neg(S)\n",
    "print(\"Number of positive numbers = \", pos)\n",
    "print(\"Number of negative numbers = \", neg)"
   ]
  },
  {
   "cell_type": "code",
   "execution_count": 17,
   "metadata": {},
   "outputs": [
    {
     "name": "stdout",
     "output_type": "stream",
     "text": [
      "5040\n",
      "[1, 2, 3, 4, 5, 6, 7, 5040]\n"
     ]
    }
   ],
   "source": [
    "def multiply(lst):\n",
    "    prod = 1\n",
    "    for i in lst:\n",
    "        prod = prod * i\n",
    "    return prod\n",
    "\n",
    "mylist = [1, 2, 3, 4, 5, 6, 7]\n",
    "print(multiply(mylist))\n",
    "mylist.append(multiply(mylist))\n",
    "print(mylist)"
   ]
  },
  {
   "cell_type": "code",
   "execution_count": 20,
   "metadata": {},
   "outputs": [
    {
     "name": "stdout",
     "output_type": "stream",
     "text": [
      "120\n",
      "6\n",
      "Invalid input! Please enter a natural number to get factorial\n",
      "-1\n"
     ]
    }
   ],
   "source": [
    "def factorial(x=3):\n",
    "    def inner_factorial(y):\n",
    "        prod = 1\n",
    "        i = 1\n",
    "        while (i <= y):\n",
    "            prod *= i\n",
    "            i += 1\n",
    "        return prod\n",
    "    \n",
    "    if x > 0:\n",
    "        return inner_factorial(x)\n",
    "    else:\n",
    "        print(\"Invalid input! Please enter a natural number to get factorial\")\n",
    "        return -1\n",
    "\n",
    "print(factorial(5))\n",
    "print(factorial())\n",
    "print(factorial(-4))\n",
    "        "
   ]
  },
  {
   "cell_type": "code",
   "execution_count": 27,
   "metadata": {},
   "outputs": [
    {
     "name": "stdout",
     "output_type": "stream",
     "text": [
      "[[1 0 0]\n",
      " [0 1 0]\n",
      " [0 0 1]]\n"
     ]
    }
   ],
   "source": [
    "# Complete the code\n",
    "\n",
    "import numpy as np\n",
    "x = np.diag((1,1,1))\n",
    "print(x)"
   ]
  },
  {
   "cell_type": "code",
   "execution_count": 33,
   "metadata": {},
   "outputs": [
    {
     "name": "stdout",
     "output_type": "stream",
     "text": [
      "Original DataFrame\n",
      "   col1  col2  col3\n",
      "0     1     4     7\n",
      "1     2     5     5\n",
      "2     3     6     8\n",
      "3     4     9    12\n",
      "4     7     5     1\n",
      "5    11     0    11\n",
      "\n",
      "After removing first three rows of the said DataFrame:\n",
      "   col1  col2  col3\n",
      "3     4     9    12\n",
      "4     7     5     1\n",
      "5    11     0    11\n"
     ]
    }
   ],
   "source": [
    "# Complete the code\n",
    "\n",
    "import pandas as pd\n",
    "d = {'col1': [1, 2, 3, 4, 7, 11], 'col2': [4, 5, 6, 9, 5, 0], 'col3': [7, 5, 8, 12, 1,11]}\n",
    "df = pd.DataFrame(data=d)\n",
    "print(\"Original DataFrame\")\n",
    "print(df)\n",
    "print(\"\\nAfter removing first three rows of the said DataFrame:\")\n",
    "df1 = df.drop([0,1,2])\n",
    "print(df1)"
   ]
  }
 ],
 "metadata": {
  "kernelspec": {
   "display_name": "Python 3",
   "language": "python",
   "name": "python3"
  },
  "language_info": {
   "codemirror_mode": {
    "name": "ipython",
    "version": 3
   },
   "file_extension": ".py",
   "mimetype": "text/x-python",
   "name": "python",
   "nbconvert_exporter": "python",
   "pygments_lexer": "ipython3",
   "version": "3.6.9"
  }
 },
 "nbformat": 4,
 "nbformat_minor": 4
}
